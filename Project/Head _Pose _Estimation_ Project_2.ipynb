{
 "cells": [
  {
   "cell_type": "markdown",
   "id": "b934f992",
   "metadata": {},
   "source": [
    "## Install and Import Dependencies"
   ]
  },
  {
   "cell_type": "code",
   "execution_count": 1,
   "id": "dffd74bc",
   "metadata": {},
   "outputs": [],
   "source": [
    "# import Libraries\n",
    "import mediapipe as mp\n",
    "import cv2\n",
    "import glob\n",
    "import numpy as np\n",
    "import csv\n",
    "import os\n",
    "from mat4py import loadmat\n",
    "import scipy.io as sio\n",
    "import math\n",
    "from os import listdir\n",
    "import pandas as pd\n",
    "from sklearn.model_selection import train_test_split\n",
    "from sklearn.preprocessing import StandardScaler\n",
    "from sklearn.decomposition import PCA\n",
    "from sklearn.ensemble import RandomForestRegressor\n",
    "from sklearn.metrics import accuracy_score \n",
    "from sklearn.metrics import mean_squared_error, r2_score\n",
    "from sklearn.linear_model import LinearRegression\n",
    "from sklearn.tree import DecisionTreeRegressor\n",
    "from sklearn.pipeline import make_pipeline, FeatureUnion\n",
    "import pickle \n",
    "from math import cos ,sin\n",
    "from imutils import face_utils\n",
    "import imutils\n",
    "from sklearn.svm import SVR"
   ]
  },
  {
   "cell_type": "code",
   "execution_count": 2,
   "id": "68117726",
   "metadata": {},
   "outputs": [],
   "source": [
    "# Drawing Helper\n",
    "mp_drawing = mp.solutions.drawing_utils\n",
    "# Mediapipe Solutions\n",
    "mp_holistic = mp.solutions.holistic"
   ]
  },
  {
   "cell_type": "markdown",
   "id": "36d93416",
   "metadata": {},
   "source": [
    "##  Collect Data & Export to CSV"
   ]
  },
  {
   "cell_type": "code",
   "execution_count": 3,
   "id": "4ae11f5b",
   "metadata": {},
   "outputs": [],
   "source": [
    "paths = []\n",
    "# get the path or directory\n",
    "folder_dir = \"E:\\ITI\\AFLW2000\"\n",
    "for images in glob.iglob(f'{folder_dir}/*'):\n",
    "    if (images.endswith(\".jpg\")):\n",
    "        paths.append(images) "
   ]
  },
  {
   "cell_type": "code",
   "execution_count": 4,
   "id": "b30f4bdd",
   "metadata": {},
   "outputs": [
    {
     "name": "stdout",
     "output_type": "stream",
     "text": [
      "E:\\ITI\\AFLW2000\\image00006.jpg\n"
     ]
    }
   ],
   "source": [
    "print(paths[2])"
   ]
  },
  {
   "cell_type": "code",
   "execution_count": 5,
   "id": "d6040fc4",
   "metadata": {},
   "outputs": [
    {
     "data": {
      "text/plain": [
       "2000"
      ]
     },
     "execution_count": 5,
     "metadata": {},
     "output_type": "execute_result"
    }
   ],
   "source": [
    "len(paths)"
   ]
  },
  {
   "cell_type": "code",
   "execution_count": 6,
   "id": "2a51e4bc",
   "metadata": {},
   "outputs": [],
   "source": [
    "paths_mat=[]\n",
    "# get the path or directory\n",
    "folder_dir = \"E:\\ITI\\AFLW2000\"\n",
    "for images in glob.iglob(f'{folder_dir}/*'):\n",
    "    if (images.endswith(\".mat\")):\n",
    "        paths_mat.append(images)"
   ]
  },
  {
   "cell_type": "code",
   "execution_count": 7,
   "id": "d91ace6e",
   "metadata": {},
   "outputs": [
    {
     "name": "stdout",
     "output_type": "stream",
     "text": [
      "E:\\ITI\\AFLW2000\\image00006.mat\n"
     ]
    }
   ],
   "source": [
    "print(paths_mat[2])"
   ]
  },
  {
   "cell_type": "code",
   "execution_count": 8,
   "id": "e4b8c2c9",
   "metadata": {},
   "outputs": [
    {
     "data": {
      "text/plain": [
       "2000"
      ]
     },
     "execution_count": 8,
     "metadata": {},
     "output_type": "execute_result"
    }
   ],
   "source": [
    "len(paths_mat)"
   ]
  },
  {
   "cell_type": "code",
   "execution_count": 9,
   "id": "de9dcb50",
   "metadata": {},
   "outputs": [],
   "source": [
    "mp_face_mesh = mp.solutions.face_mesh\n",
    "mp_face_detection = mp.solutions.face_detection\n",
    "mp_holistic = mp.solutions.holistic"
   ]
  },
  {
   "cell_type": "code",
   "execution_count": 10,
   "id": "68ba3ec9",
   "metadata": {},
   "outputs": [],
   "source": [
    "face_mesh = mp_face_mesh.FaceMesh(static_image_mode=True)\n",
    "holistic = mp_holistic.Holistic(min_detection_confidence=0.5, min_tracking_confidence=0.5)\n",
    "face_detection = mp_face_detection.FaceDetection(model_selection=1, min_detection_confidence=0.5)"
   ]
  },
  {
   "cell_type": "code",
   "execution_count": 11,
   "id": "925869d6",
   "metadata": {},
   "outputs": [],
   "source": [
    "x_stack = np.array([np.linspace(1,468, num= 468)])\n",
    "y_stack = np.array([np.linspace(1,468, num= 468)])\n",
    "\n",
    "\n",
    "# ypr_stack = np.array([np.linspace(1,3, num= 3)])\n",
    "pitch_array1 = []\n",
    "yaw_array1 = []\n",
    "roll_array1 = []\n",
    "\n",
    "x_array_init = []\n",
    "y_array_init = []\n",
    "all_ypr = []\n",
    "for indx , img in enumerate(paths) :\n",
    "    x_array_face = []\n",
    "    y_array_face = []\n",
    "    image = cv2.imread(img)\n",
    "    image = imutils.resize(image, width=450)\n",
    "  # cv2_imshow(image)\n",
    "    result = face_mesh.process(cv2.cvtColor(image, cv2.COLOR_BGR2RGB))\n",
    "    face = result.multi_face_landmarks\n",
    "\n",
    "    try:\n",
    "        for landm in face[0].landmark:\n",
    "      \n",
    "            x = landm.x\n",
    "            y = landm.y\n",
    "            # note: the x and y values are Normalized from 0 to 1 and we need to denormalize them\n",
    "            relative_x = int(x * image.shape [1])\n",
    "            relative_y = int(y * image.shape [0])\n",
    "            x_array_face.append(relative_x)\n",
    "            y_array_face.append(relative_y)\n",
    "    \n",
    "        x_array_face = np.array(x_array_face)\n",
    "        x_stack = np.vstack([x_stack,x_array_face.T])\n",
    "\n",
    "        y_array_face = np.array(y_array_face)\n",
    "        y_stack = np.vstack([y_stack,y_array_face.T])\n",
    "\n",
    "        # x_array_init.append(x_array_face)\n",
    "        # y_array_init.append(y_array_face)\n",
    "\n",
    "        # full_x_array = np.array(x_array_init)\n",
    "        # full_y_array = np.array(y_array_init)\n",
    "\n",
    "        mat_file = sio.loadmat(paths_mat[indx])\n",
    "        # extracting the labels 3 angels\n",
    "        pose_para = mat_file[\"Pose_Para\"][0][:3]\n",
    "        pitch = pose_para[0]\n",
    "        yaw = pose_para[1]\n",
    "        roll = pose_para[2] \n",
    "        pitch_array1.append(pitch)\n",
    "        yaw_array1.append(yaw)\n",
    "        roll_array1.append(roll)\n",
    "\n",
    "        pitch_array = np.array(pitch_array1)\n",
    "\n",
    "        yaw_array = np.array(yaw_array1)\n",
    "\n",
    "        roll_array = np.array(roll_array1)\n",
    "\n",
    "        # ypr_stack = np.vstack([ypr_stack, all_ypr_array.T])\n",
    "\n",
    "\n",
    "    except:\n",
    "        pass"
   ]
  },
  {
   "cell_type": "code",
   "execution_count": 12,
   "id": "e3825e13",
   "metadata": {},
   "outputs": [
    {
     "data": {
      "text/plain": [
       "-0.3992307782173157"
      ]
     },
     "execution_count": 12,
     "metadata": {},
     "output_type": "execute_result"
    }
   ],
   "source": [
    "pitch_array[0]"
   ]
  },
  {
   "cell_type": "code",
   "execution_count": 13,
   "id": "118b0410",
   "metadata": {},
   "outputs": [
    {
     "data": {
      "text/plain": [
       "(1853, 468)"
      ]
     },
     "execution_count": 13,
     "metadata": {},
     "output_type": "execute_result"
    }
   ],
   "source": [
    "# # Uncomment for the first time only\n",
    "x_stack = np.delete(x_stack, 0, 0)\n",
    "x_stack.shape"
   ]
  },
  {
   "cell_type": "code",
   "execution_count": 14,
   "id": "1f35ce17",
   "metadata": {},
   "outputs": [
    {
     "data": {
      "text/plain": [
       "(1853, 468)"
      ]
     },
     "execution_count": 14,
     "metadata": {},
     "output_type": "execute_result"
    }
   ],
   "source": [
    "# # Uncomment for the first time only\n",
    "y_stack = np.delete(y_stack,0,0)\n",
    "y_stack.shape"
   ]
  },
  {
   "cell_type": "code",
   "execution_count": 15,
   "id": "e6c63a00",
   "metadata": {},
   "outputs": [
    {
     "name": "stdout",
     "output_type": "stream",
     "text": [
      "(1853,)\n",
      "(1853,)\n",
      "(1853,)\n"
     ]
    }
   ],
   "source": [
    "print(pitch_array.shape)\n",
    "print(yaw_array.shape)\n",
    "print(roll_array.shape)"
   ]
  },
  {
   "cell_type": "code",
   "execution_count": 16,
   "id": "bb2445d2",
   "metadata": {},
   "outputs": [
    {
     "name": "stdout",
     "output_type": "stream",
     "text": [
      "(1853, 468)\n",
      "(1853, 468)\n",
      "(1853, 936)\n"
     ]
    }
   ],
   "source": [
    "# center 99\n",
    "# Top of Head = 10\n",
    "# Bottom of Head = 171\n",
    "\n",
    "# centering the data arround the 99th point \n",
    "x_center = x_stack - x_stack[:,99].reshape(-1,1)\n",
    "y_center = y_stack - y_stack[:,99].reshape(-1,1)\n",
    "\n",
    "# normalizing the data to be in the same scale by dividing over the distance between point 10 and point 171\n",
    "x_171 = x_stack[:,171]\n",
    "x_10 = x_stack[:,10]\n",
    "y_171 = y_stack[:,171]\n",
    "y_10 = y_stack[:,10]\n",
    "\n",
    "# computing the distance\n",
    "distance = np.linalg.norm(np.array((x_10,y_10)) - np.array((x_171,y_171)),axis = 0).reshape(-1,1)\n",
    "x_norm = x_center / distance\n",
    "y_norm = y_center / distance\n",
    "\n",
    "print(x_norm.shape)\n",
    "print(y_norm.shape)\n",
    "\n",
    "# concatinating the X and Y points to form the compelete features\n",
    "features = np.hstack([x_norm,y_norm])\n",
    "\n",
    "print(features.shape)"
   ]
  },
  {
   "cell_type": "markdown",
   "id": "2f88606c",
   "metadata": {},
   "source": [
    "## Read Data "
   ]
  },
  {
   "cell_type": "code",
   "execution_count": 17,
   "id": "a018c285",
   "metadata": {},
   "outputs": [
    {
     "data": {
      "text/html": [
       "<div>\n",
       "<style scoped>\n",
       "    .dataframe tbody tr th:only-of-type {\n",
       "        vertical-align: middle;\n",
       "    }\n",
       "\n",
       "    .dataframe tbody tr th {\n",
       "        vertical-align: top;\n",
       "    }\n",
       "\n",
       "    .dataframe thead th {\n",
       "        text-align: right;\n",
       "    }\n",
       "</style>\n",
       "<table border=\"1\" class=\"dataframe\">\n",
       "  <thead>\n",
       "    <tr style=\"text-align: right;\">\n",
       "      <th></th>\n",
       "      <th>0</th>\n",
       "      <th>1</th>\n",
       "      <th>2</th>\n",
       "      <th>3</th>\n",
       "      <th>4</th>\n",
       "      <th>5</th>\n",
       "      <th>6</th>\n",
       "      <th>7</th>\n",
       "      <th>8</th>\n",
       "      <th>9</th>\n",
       "      <th>...</th>\n",
       "      <th>926</th>\n",
       "      <th>927</th>\n",
       "      <th>928</th>\n",
       "      <th>929</th>\n",
       "      <th>930</th>\n",
       "      <th>931</th>\n",
       "      <th>932</th>\n",
       "      <th>933</th>\n",
       "      <th>934</th>\n",
       "      <th>935</th>\n",
       "    </tr>\n",
       "  </thead>\n",
       "  <tbody>\n",
       "    <tr>\n",
       "      <th>0</th>\n",
       "      <td>0.042774</td>\n",
       "      <td>0.051328</td>\n",
       "      <td>0.051328</td>\n",
       "      <td>0.029942</td>\n",
       "      <td>0.051328</td>\n",
       "      <td>0.059883</td>\n",
       "      <td>0.076993</td>\n",
       "      <td>-0.192482</td>\n",
       "      <td>0.085547</td>\n",
       "      <td>0.089825</td>\n",
       "      <td>...</td>\n",
       "      <td>0.008555</td>\n",
       "      <td>-0.004277</td>\n",
       "      <td>0.000000</td>\n",
       "      <td>0.012832</td>\n",
       "      <td>0.017109</td>\n",
       "      <td>-0.290861</td>\n",
       "      <td>-0.278029</td>\n",
       "      <td>-0.260920</td>\n",
       "      <td>-0.316526</td>\n",
       "      <td>-0.333635</td>\n",
       "    </tr>\n",
       "    <tr>\n",
       "      <th>1</th>\n",
       "      <td>0.000000</td>\n",
       "      <td>-0.070821</td>\n",
       "      <td>0.019315</td>\n",
       "      <td>-0.012876</td>\n",
       "      <td>-0.070821</td>\n",
       "      <td>-0.038629</td>\n",
       "      <td>0.064382</td>\n",
       "      <td>0.064382</td>\n",
       "      <td>0.096573</td>\n",
       "      <td>0.090135</td>\n",
       "      <td>...</td>\n",
       "      <td>-0.019315</td>\n",
       "      <td>-0.025753</td>\n",
       "      <td>0.012876</td>\n",
       "      <td>-0.012876</td>\n",
       "      <td>0.000000</td>\n",
       "      <td>-0.283282</td>\n",
       "      <td>-0.270406</td>\n",
       "      <td>-0.263967</td>\n",
       "      <td>-0.302597</td>\n",
       "      <td>-0.321911</td>\n",
       "    </tr>\n",
       "    <tr>\n",
       "      <th>2</th>\n",
       "      <td>0.061069</td>\n",
       "      <td>0.071247</td>\n",
       "      <td>0.061069</td>\n",
       "      <td>0.020356</td>\n",
       "      <td>0.071247</td>\n",
       "      <td>0.071247</td>\n",
       "      <td>0.050891</td>\n",
       "      <td>-0.264632</td>\n",
       "      <td>0.040713</td>\n",
       "      <td>0.040713</td>\n",
       "      <td>...</td>\n",
       "      <td>-0.010178</td>\n",
       "      <td>-0.020356</td>\n",
       "      <td>-0.020356</td>\n",
       "      <td>0.000000</td>\n",
       "      <td>0.000000</td>\n",
       "      <td>-0.274810</td>\n",
       "      <td>-0.264632</td>\n",
       "      <td>-0.254454</td>\n",
       "      <td>-0.305344</td>\n",
       "      <td>-0.315523</td>\n",
       "    </tr>\n",
       "    <tr>\n",
       "      <th>3</th>\n",
       "      <td>0.081445</td>\n",
       "      <td>0.005090</td>\n",
       "      <td>0.050903</td>\n",
       "      <td>-0.055994</td>\n",
       "      <td>-0.015271</td>\n",
       "      <td>-0.025452</td>\n",
       "      <td>-0.035632</td>\n",
       "      <td>-0.244336</td>\n",
       "      <td>-0.071265</td>\n",
       "      <td>-0.091626</td>\n",
       "      <td>...</td>\n",
       "      <td>-0.025452</td>\n",
       "      <td>-0.045813</td>\n",
       "      <td>-0.061084</td>\n",
       "      <td>-0.015271</td>\n",
       "      <td>-0.015271</td>\n",
       "      <td>-0.361413</td>\n",
       "      <td>-0.341052</td>\n",
       "      <td>-0.320691</td>\n",
       "      <td>-0.463220</td>\n",
       "      <td>-0.488671</td>\n",
       "    </tr>\n",
       "    <tr>\n",
       "      <th>4</th>\n",
       "      <td>0.067940</td>\n",
       "      <td>0.031705</td>\n",
       "      <td>0.045293</td>\n",
       "      <td>-0.018117</td>\n",
       "      <td>0.022647</td>\n",
       "      <td>0.013588</td>\n",
       "      <td>-0.004529</td>\n",
       "      <td>-0.240055</td>\n",
       "      <td>-0.018117</td>\n",
       "      <td>-0.027176</td>\n",
       "      <td>...</td>\n",
       "      <td>-0.031705</td>\n",
       "      <td>-0.049823</td>\n",
       "      <td>-0.031705</td>\n",
       "      <td>-0.027176</td>\n",
       "      <td>-0.018117</td>\n",
       "      <td>-0.289878</td>\n",
       "      <td>-0.276290</td>\n",
       "      <td>-0.267231</td>\n",
       "      <td>-0.348759</td>\n",
       "      <td>-0.357818</td>\n",
       "    </tr>\n",
       "  </tbody>\n",
       "</table>\n",
       "<p>5 rows × 936 columns</p>\n",
       "</div>"
      ],
      "text/plain": [
       "        0         1         2         3         4         5         6    \\\n",
       "0  0.042774  0.051328  0.051328  0.029942  0.051328  0.059883  0.076993   \n",
       "1  0.000000 -0.070821  0.019315 -0.012876 -0.070821 -0.038629  0.064382   \n",
       "2  0.061069  0.071247  0.061069  0.020356  0.071247  0.071247  0.050891   \n",
       "3  0.081445  0.005090  0.050903 -0.055994 -0.015271 -0.025452 -0.035632   \n",
       "4  0.067940  0.031705  0.045293 -0.018117  0.022647  0.013588 -0.004529   \n",
       "\n",
       "        7         8         9    ...       926       927       928       929  \\\n",
       "0 -0.192482  0.085547  0.089825  ...  0.008555 -0.004277  0.000000  0.012832   \n",
       "1  0.064382  0.096573  0.090135  ... -0.019315 -0.025753  0.012876 -0.012876   \n",
       "2 -0.264632  0.040713  0.040713  ... -0.010178 -0.020356 -0.020356  0.000000   \n",
       "3 -0.244336 -0.071265 -0.091626  ... -0.025452 -0.045813 -0.061084 -0.015271   \n",
       "4 -0.240055 -0.018117 -0.027176  ... -0.031705 -0.049823 -0.031705 -0.027176   \n",
       "\n",
       "        930       931       932       933       934       935  \n",
       "0  0.017109 -0.290861 -0.278029 -0.260920 -0.316526 -0.333635  \n",
       "1  0.000000 -0.283282 -0.270406 -0.263967 -0.302597 -0.321911  \n",
       "2  0.000000 -0.274810 -0.264632 -0.254454 -0.305344 -0.315523  \n",
       "3 -0.015271 -0.361413 -0.341052 -0.320691 -0.463220 -0.488671  \n",
       "4 -0.018117 -0.289878 -0.276290 -0.267231 -0.348759 -0.357818  \n",
       "\n",
       "[5 rows x 936 columns]"
      ]
     },
     "execution_count": 17,
     "metadata": {},
     "output_type": "execute_result"
    }
   ],
   "source": [
    "df = pd.DataFrame(features)\n",
    "df.head(5)"
   ]
  },
  {
   "cell_type": "code",
   "execution_count": 18,
   "id": "600bb4dc",
   "metadata": {},
   "outputs": [
    {
     "data": {
      "text/html": [
       "<div>\n",
       "<style scoped>\n",
       "    .dataframe tbody tr th:only-of-type {\n",
       "        vertical-align: middle;\n",
       "    }\n",
       "\n",
       "    .dataframe tbody tr th {\n",
       "        vertical-align: top;\n",
       "    }\n",
       "\n",
       "    .dataframe thead th {\n",
       "        text-align: right;\n",
       "    }\n",
       "</style>\n",
       "<table border=\"1\" class=\"dataframe\">\n",
       "  <thead>\n",
       "    <tr style=\"text-align: right;\">\n",
       "      <th></th>\n",
       "      <th>0</th>\n",
       "      <th>1</th>\n",
       "      <th>2</th>\n",
       "      <th>3</th>\n",
       "      <th>4</th>\n",
       "      <th>5</th>\n",
       "      <th>6</th>\n",
       "      <th>7</th>\n",
       "      <th>8</th>\n",
       "      <th>9</th>\n",
       "      <th>...</th>\n",
       "      <th>929</th>\n",
       "      <th>930</th>\n",
       "      <th>931</th>\n",
       "      <th>932</th>\n",
       "      <th>933</th>\n",
       "      <th>934</th>\n",
       "      <th>935</th>\n",
       "      <th>yaw</th>\n",
       "      <th>pitch</th>\n",
       "      <th>roll</th>\n",
       "    </tr>\n",
       "  </thead>\n",
       "  <tbody>\n",
       "    <tr>\n",
       "      <th>0</th>\n",
       "      <td>0.042774</td>\n",
       "      <td>0.051328</td>\n",
       "      <td>0.051328</td>\n",
       "      <td>0.029942</td>\n",
       "      <td>0.051328</td>\n",
       "      <td>0.059883</td>\n",
       "      <td>0.076993</td>\n",
       "      <td>-0.192482</td>\n",
       "      <td>0.085547</td>\n",
       "      <td>0.089825</td>\n",
       "      <td>...</td>\n",
       "      <td>0.012832</td>\n",
       "      <td>0.017109</td>\n",
       "      <td>-0.290861</td>\n",
       "      <td>-0.278029</td>\n",
       "      <td>-0.260920</td>\n",
       "      <td>-0.316526</td>\n",
       "      <td>-0.333635</td>\n",
       "      <td>0.018227</td>\n",
       "      <td>-0.399231</td>\n",
       "      <td>0.085676</td>\n",
       "    </tr>\n",
       "    <tr>\n",
       "      <th>1</th>\n",
       "      <td>0.000000</td>\n",
       "      <td>-0.070821</td>\n",
       "      <td>0.019315</td>\n",
       "      <td>-0.012876</td>\n",
       "      <td>-0.070821</td>\n",
       "      <td>-0.038629</td>\n",
       "      <td>0.064382</td>\n",
       "      <td>0.064382</td>\n",
       "      <td>0.096573</td>\n",
       "      <td>0.090135</td>\n",
       "      <td>...</td>\n",
       "      <td>-0.012876</td>\n",
       "      <td>0.000000</td>\n",
       "      <td>-0.283282</td>\n",
       "      <td>-0.270406</td>\n",
       "      <td>-0.263967</td>\n",
       "      <td>-0.302597</td>\n",
       "      <td>-0.321911</td>\n",
       "      <td>1.189533</td>\n",
       "      <td>0.470065</td>\n",
       "      <td>0.300959</td>\n",
       "    </tr>\n",
       "    <tr>\n",
       "      <th>2</th>\n",
       "      <td>0.061069</td>\n",
       "      <td>0.071247</td>\n",
       "      <td>0.061069</td>\n",
       "      <td>0.020356</td>\n",
       "      <td>0.071247</td>\n",
       "      <td>0.071247</td>\n",
       "      <td>0.050891</td>\n",
       "      <td>-0.264632</td>\n",
       "      <td>0.040713</td>\n",
       "      <td>0.040713</td>\n",
       "      <td>...</td>\n",
       "      <td>0.000000</td>\n",
       "      <td>0.000000</td>\n",
       "      <td>-0.274810</td>\n",
       "      <td>-0.264632</td>\n",
       "      <td>-0.254454</td>\n",
       "      <td>-0.305344</td>\n",
       "      <td>-0.315523</td>\n",
       "      <td>0.881137</td>\n",
       "      <td>-0.184650</td>\n",
       "      <td>-0.236852</td>\n",
       "    </tr>\n",
       "    <tr>\n",
       "      <th>3</th>\n",
       "      <td>0.081445</td>\n",
       "      <td>0.005090</td>\n",
       "      <td>0.050903</td>\n",
       "      <td>-0.055994</td>\n",
       "      <td>-0.015271</td>\n",
       "      <td>-0.025452</td>\n",
       "      <td>-0.035632</td>\n",
       "      <td>-0.244336</td>\n",
       "      <td>-0.071265</td>\n",
       "      <td>-0.091626</td>\n",
       "      <td>...</td>\n",
       "      <td>-0.015271</td>\n",
       "      <td>-0.015271</td>\n",
       "      <td>-0.361413</td>\n",
       "      <td>-0.341052</td>\n",
       "      <td>-0.320691</td>\n",
       "      <td>-0.463220</td>\n",
       "      <td>-0.488671</td>\n",
       "      <td>0.299208</td>\n",
       "      <td>-0.175379</td>\n",
       "      <td>-0.373374</td>\n",
       "    </tr>\n",
       "    <tr>\n",
       "      <th>4</th>\n",
       "      <td>0.067940</td>\n",
       "      <td>0.031705</td>\n",
       "      <td>0.045293</td>\n",
       "      <td>-0.018117</td>\n",
       "      <td>0.022647</td>\n",
       "      <td>0.013588</td>\n",
       "      <td>-0.004529</td>\n",
       "      <td>-0.240055</td>\n",
       "      <td>-0.018117</td>\n",
       "      <td>-0.027176</td>\n",
       "      <td>...</td>\n",
       "      <td>-0.027176</td>\n",
       "      <td>-0.018117</td>\n",
       "      <td>-0.289878</td>\n",
       "      <td>-0.276290</td>\n",
       "      <td>-0.267231</td>\n",
       "      <td>-0.348759</td>\n",
       "      <td>-0.357818</td>\n",
       "      <td>0.011965</td>\n",
       "      <td>-0.026812</td>\n",
       "      <td>-0.220662</td>\n",
       "    </tr>\n",
       "  </tbody>\n",
       "</table>\n",
       "<p>5 rows × 939 columns</p>\n",
       "</div>"
      ],
      "text/plain": [
       "          0         1         2         3         4         5         6  \\\n",
       "0  0.042774  0.051328  0.051328  0.029942  0.051328  0.059883  0.076993   \n",
       "1  0.000000 -0.070821  0.019315 -0.012876 -0.070821 -0.038629  0.064382   \n",
       "2  0.061069  0.071247  0.061069  0.020356  0.071247  0.071247  0.050891   \n",
       "3  0.081445  0.005090  0.050903 -0.055994 -0.015271 -0.025452 -0.035632   \n",
       "4  0.067940  0.031705  0.045293 -0.018117  0.022647  0.013588 -0.004529   \n",
       "\n",
       "          7         8         9  ...       929       930       931       932  \\\n",
       "0 -0.192482  0.085547  0.089825  ...  0.012832  0.017109 -0.290861 -0.278029   \n",
       "1  0.064382  0.096573  0.090135  ... -0.012876  0.000000 -0.283282 -0.270406   \n",
       "2 -0.264632  0.040713  0.040713  ...  0.000000  0.000000 -0.274810 -0.264632   \n",
       "3 -0.244336 -0.071265 -0.091626  ... -0.015271 -0.015271 -0.361413 -0.341052   \n",
       "4 -0.240055 -0.018117 -0.027176  ... -0.027176 -0.018117 -0.289878 -0.276290   \n",
       "\n",
       "        933       934       935       yaw     pitch      roll  \n",
       "0 -0.260920 -0.316526 -0.333635  0.018227 -0.399231  0.085676  \n",
       "1 -0.263967 -0.302597 -0.321911  1.189533  0.470065  0.300959  \n",
       "2 -0.254454 -0.305344 -0.315523  0.881137 -0.184650 -0.236852  \n",
       "3 -0.320691 -0.463220 -0.488671  0.299208 -0.175379 -0.373374  \n",
       "4 -0.267231 -0.348759 -0.357818  0.011965 -0.026812 -0.220662  \n",
       "\n",
       "[5 rows x 939 columns]"
      ]
     },
     "execution_count": 18,
     "metadata": {},
     "output_type": "execute_result"
    }
   ],
   "source": [
    "data = df.copy()\n",
    "data['yaw'] = pd.DataFrame(yaw_array)\n",
    "data['pitch'] = pd.DataFrame(pitch_array)\n",
    "data['roll'] = pd.DataFrame(roll_array)\n",
    "data.head(5)"
   ]
  },
  {
   "cell_type": "code",
   "execution_count": 19,
   "id": "0e1c22eb",
   "metadata": {},
   "outputs": [],
   "source": [
    "data.to_csv(\"landmarks.csv\")"
   ]
  },
  {
   "cell_type": "code",
   "execution_count": 20,
   "id": "7d63fb22",
   "metadata": {},
   "outputs": [
    {
     "name": "stdout",
     "output_type": "stream",
     "text": [
      "(1853, 936)\n"
     ]
    }
   ],
   "source": [
    "# features\n",
    "x= np.array(df)\n",
    "print(x.shape)\n",
    "# pitch label\n",
    "pa=data['pitch']\n",
    "# yaw label\n",
    "ya=data['yaw']\n",
    "# roll label\n",
    "ra=data['roll']\n",
    "#labels\n",
    "Angles=data[['pitch','yaw','roll']]"
   ]
  },
  {
   "cell_type": "code",
   "execution_count": 21,
   "id": "ea0a4337",
   "metadata": {},
   "outputs": [
    {
     "data": {
      "text/plain": [
       "array([[ 0.04277373,  0.05132847,  0.05132847, ..., -0.26091974,\n",
       "        -0.31652559, -0.33363508],\n",
       "       [ 0.        , -0.07082051,  0.01931468, ..., -0.26396734,\n",
       "        -0.30259671, -0.32191139],\n",
       "       [ 0.0610689 ,  0.07124705,  0.0610689 , ..., -0.25445375,\n",
       "        -0.3053445 , -0.31552265],\n",
       "       ...,\n",
       "       [ 0.0302791 ,  0.07065123,  0.05046516, ..., -0.2170002 ,\n",
       "        -0.20186065, -0.2170002 ],\n",
       "       [ 0.04213974,  0.05899563,  0.05056768, ..., -0.26126636,\n",
       "        -0.3034061 , -0.31604802],\n",
       "       [ 0.05792269,  0.0534671 ,  0.04901151, ..., -0.25842433,\n",
       "        -0.28961347, -0.30743584]])"
      ]
     },
     "execution_count": 21,
     "metadata": {},
     "output_type": "execute_result"
    }
   ],
   "source": [
    "x"
   ]
  },
  {
   "cell_type": "code",
   "execution_count": 22,
   "id": "4ac2a0ea",
   "metadata": {},
   "outputs": [
    {
     "data": {
      "text/plain": [
       "(1853,)"
      ]
     },
     "execution_count": 22,
     "metadata": {},
     "output_type": "execute_result"
    }
   ],
   "source": [
    "pa.shape"
   ]
  },
  {
   "cell_type": "code",
   "execution_count": 23,
   "id": "975bd11d",
   "metadata": {},
   "outputs": [
    {
     "data": {
      "text/plain": [
       "(1853,)"
      ]
     },
     "execution_count": 23,
     "metadata": {},
     "output_type": "execute_result"
    }
   ],
   "source": [
    "ya.shape"
   ]
  },
  {
   "cell_type": "code",
   "execution_count": 24,
   "id": "dec2569b",
   "metadata": {},
   "outputs": [
    {
     "data": {
      "text/plain": [
       "(1853,)"
      ]
     },
     "execution_count": 24,
     "metadata": {},
     "output_type": "execute_result"
    }
   ],
   "source": [
    "ra.shape"
   ]
  },
  {
   "cell_type": "code",
   "execution_count": 25,
   "id": "ba7188aa",
   "metadata": {},
   "outputs": [
    {
     "data": {
      "text/html": [
       "<div>\n",
       "<style scoped>\n",
       "    .dataframe tbody tr th:only-of-type {\n",
       "        vertical-align: middle;\n",
       "    }\n",
       "\n",
       "    .dataframe tbody tr th {\n",
       "        vertical-align: top;\n",
       "    }\n",
       "\n",
       "    .dataframe thead th {\n",
       "        text-align: right;\n",
       "    }\n",
       "</style>\n",
       "<table border=\"1\" class=\"dataframe\">\n",
       "  <thead>\n",
       "    <tr style=\"text-align: right;\">\n",
       "      <th></th>\n",
       "      <th>pitch</th>\n",
       "      <th>yaw</th>\n",
       "      <th>roll</th>\n",
       "    </tr>\n",
       "  </thead>\n",
       "  <tbody>\n",
       "    <tr>\n",
       "      <th>0</th>\n",
       "      <td>-0.399231</td>\n",
       "      <td>0.018227</td>\n",
       "      <td>0.085676</td>\n",
       "    </tr>\n",
       "    <tr>\n",
       "      <th>1</th>\n",
       "      <td>0.470065</td>\n",
       "      <td>1.189533</td>\n",
       "      <td>0.300959</td>\n",
       "    </tr>\n",
       "    <tr>\n",
       "      <th>2</th>\n",
       "      <td>-0.184650</td>\n",
       "      <td>0.881137</td>\n",
       "      <td>-0.236852</td>\n",
       "    </tr>\n",
       "    <tr>\n",
       "      <th>3</th>\n",
       "      <td>-0.175379</td>\n",
       "      <td>0.299208</td>\n",
       "      <td>-0.373374</td>\n",
       "    </tr>\n",
       "    <tr>\n",
       "      <th>4</th>\n",
       "      <td>-0.026812</td>\n",
       "      <td>0.011965</td>\n",
       "      <td>-0.220662</td>\n",
       "    </tr>\n",
       "    <tr>\n",
       "      <th>...</th>\n",
       "      <td>...</td>\n",
       "      <td>...</td>\n",
       "      <td>...</td>\n",
       "    </tr>\n",
       "    <tr>\n",
       "      <th>1848</th>\n",
       "      <td>-0.306358</td>\n",
       "      <td>-0.283822</td>\n",
       "      <td>0.038554</td>\n",
       "    </tr>\n",
       "    <tr>\n",
       "      <th>1849</th>\n",
       "      <td>-0.367547</td>\n",
       "      <td>-0.429723</td>\n",
       "      <td>0.122791</td>\n",
       "    </tr>\n",
       "    <tr>\n",
       "      <th>1850</th>\n",
       "      <td>-0.156035</td>\n",
       "      <td>0.567114</td>\n",
       "      <td>-0.108536</td>\n",
       "    </tr>\n",
       "    <tr>\n",
       "      <th>1851</th>\n",
       "      <td>-0.197102</td>\n",
       "      <td>-0.070430</td>\n",
       "      <td>0.105118</td>\n",
       "    </tr>\n",
       "    <tr>\n",
       "      <th>1852</th>\n",
       "      <td>-0.015552</td>\n",
       "      <td>-0.180126</td>\n",
       "      <td>-0.024546</td>\n",
       "    </tr>\n",
       "  </tbody>\n",
       "</table>\n",
       "<p>1853 rows × 3 columns</p>\n",
       "</div>"
      ],
      "text/plain": [
       "         pitch       yaw      roll\n",
       "0    -0.399231  0.018227  0.085676\n",
       "1     0.470065  1.189533  0.300959\n",
       "2    -0.184650  0.881137 -0.236852\n",
       "3    -0.175379  0.299208 -0.373374\n",
       "4    -0.026812  0.011965 -0.220662\n",
       "...        ...       ...       ...\n",
       "1848 -0.306358 -0.283822  0.038554\n",
       "1849 -0.367547 -0.429723  0.122791\n",
       "1850 -0.156035  0.567114 -0.108536\n",
       "1851 -0.197102 -0.070430  0.105118\n",
       "1852 -0.015552 -0.180126 -0.024546\n",
       "\n",
       "[1853 rows x 3 columns]"
      ]
     },
     "execution_count": 25,
     "metadata": {},
     "output_type": "execute_result"
    }
   ],
   "source": [
    "Angles"
   ]
  },
  {
   "cell_type": "markdown",
   "id": "e9588688",
   "metadata": {},
   "source": [
    "##  Prepare Data"
   ]
  },
  {
   "cell_type": "markdown",
   "id": "756f135b",
   "metadata": {},
   "source": [
    "### 1.PITCH"
   ]
  },
  {
   "cell_type": "code",
   "execution_count": 26,
   "id": "e97eb1a7",
   "metadata": {},
   "outputs": [],
   "source": [
    "X_train_p, X_val_p, y_train_p, y_val_p = train_test_split(x, pa, test_size=0.2,shuffle=True, random_state=1234)\n",
    "\n",
    "X_val_p, X_test_p, y_val_p, y_test_p = train_test_split(X_val_p, y_val_p, test_size=0.5,shuffle=True, random_state=1234)"
   ]
  },
  {
   "cell_type": "code",
   "execution_count": 27,
   "id": "dd3ec315",
   "metadata": {},
   "outputs": [
    {
     "data": {
      "text/plain": [
       "(1482, 936)"
      ]
     },
     "execution_count": 27,
     "metadata": {},
     "output_type": "execute_result"
    }
   ],
   "source": [
    "X_train_p.shape"
   ]
  },
  {
   "cell_type": "code",
   "execution_count": 28,
   "id": "13e15c90",
   "metadata": {},
   "outputs": [
    {
     "data": {
      "text/plain": [
       "(185, 936)"
      ]
     },
     "execution_count": 28,
     "metadata": {},
     "output_type": "execute_result"
    }
   ],
   "source": [
    "X_val_p.shape"
   ]
  },
  {
   "cell_type": "code",
   "execution_count": 29,
   "id": "a81a443a",
   "metadata": {},
   "outputs": [
    {
     "data": {
      "text/plain": [
       "(186,)"
      ]
     },
     "execution_count": 29,
     "metadata": {},
     "output_type": "execute_result"
    }
   ],
   "source": [
    "y_test_p.shape"
   ]
  },
  {
   "cell_type": "markdown",
   "id": "4e38c796",
   "metadata": {},
   "source": [
    "### 2. YAW"
   ]
  },
  {
   "cell_type": "code",
   "execution_count": 30,
   "id": "3c870cf7",
   "metadata": {},
   "outputs": [],
   "source": [
    "X_train_y, X_val_y, y_train_y, y_val_y = train_test_split(x, ya, test_size=0.2, shuffle=True,random_state=1234)\n",
    "\n",
    "X_val_y, X_test_y, y_val_y, y_test_y = train_test_split(X_val_y, y_val_y, test_size=0.5, shuffle=True,random_state=1234)"
   ]
  },
  {
   "cell_type": "code",
   "execution_count": 31,
   "id": "5b0399d5",
   "metadata": {},
   "outputs": [
    {
     "data": {
      "text/plain": [
       "(1482, 936)"
      ]
     },
     "execution_count": 31,
     "metadata": {},
     "output_type": "execute_result"
    }
   ],
   "source": [
    "X_train_y.shape"
   ]
  },
  {
   "cell_type": "code",
   "execution_count": 32,
   "id": "b0005ff6",
   "metadata": {},
   "outputs": [
    {
     "data": {
      "text/plain": [
       "(185, 936)"
      ]
     },
     "execution_count": 32,
     "metadata": {},
     "output_type": "execute_result"
    }
   ],
   "source": [
    "X_val_y.shape"
   ]
  },
  {
   "cell_type": "code",
   "execution_count": 33,
   "id": "94551b0a",
   "metadata": {},
   "outputs": [
    {
     "data": {
      "text/plain": [
       "(186,)"
      ]
     },
     "execution_count": 33,
     "metadata": {},
     "output_type": "execute_result"
    }
   ],
   "source": [
    "y_test_y.shape"
   ]
  },
  {
   "cell_type": "markdown",
   "id": "47ef5459",
   "metadata": {},
   "source": [
    "### 3. Roll"
   ]
  },
  {
   "cell_type": "code",
   "execution_count": 34,
   "id": "c9255196",
   "metadata": {},
   "outputs": [],
   "source": [
    "X_train_r, X_val_r, y_train_r, y_val_r = train_test_split(x, ra, test_size=0.2,shuffle=True, random_state=1234)\n",
    "\n",
    "X_val_r, X_test_r, y_val_r, y_test_r = train_test_split(X_val_r, y_val_r, test_size=0.5,shuffle=True, random_state=1234)"
   ]
  },
  {
   "cell_type": "code",
   "execution_count": 35,
   "id": "af96e61e",
   "metadata": {},
   "outputs": [
    {
     "data": {
      "text/plain": [
       "(1482, 936)"
      ]
     },
     "execution_count": 35,
     "metadata": {},
     "output_type": "execute_result"
    }
   ],
   "source": [
    "X_train_r.shape"
   ]
  },
  {
   "cell_type": "code",
   "execution_count": 36,
   "id": "21bd978f",
   "metadata": {},
   "outputs": [
    {
     "data": {
      "text/plain": [
       "(185, 936)"
      ]
     },
     "execution_count": 36,
     "metadata": {},
     "output_type": "execute_result"
    }
   ],
   "source": [
    "X_val_r.shape"
   ]
  },
  {
   "cell_type": "code",
   "execution_count": 37,
   "id": "87010945",
   "metadata": {},
   "outputs": [
    {
     "data": {
      "text/plain": [
       "(186,)"
      ]
     },
     "execution_count": 37,
     "metadata": {},
     "output_type": "execute_result"
    }
   ],
   "source": [
    "y_test_r.shape"
   ]
  },
  {
   "cell_type": "markdown",
   "id": "03731b1c",
   "metadata": {},
   "source": [
    "## Traning Models and Prediction"
   ]
  },
  {
   "cell_type": "markdown",
   "id": "0a084821",
   "metadata": {},
   "source": [
    "### 1. PITCH"
   ]
  },
  {
   "cell_type": "code",
   "execution_count": 38,
   "id": "011a0af4",
   "metadata": {},
   "outputs": [],
   "source": [
    "pipelines = {\n",
    "        'rf_pca_pa':make_pipeline(StandardScaler(),PCA(n_components=100), SVR())\n",
    "    #     ,'lr_pca_pa':make_pipeline(PCA(n_components=0.99),LinearRegression()),\n",
    "    #     'DT_pa'    :make_pipeline(DecisionTreeRegressor()),\n",
    "    #     'DT_pa_pa'    :make_pipeline(PCA(n_components=0.99),DecisionTreeRegressor()),\n",
    "\n",
    "\n",
    "}"
   ]
  },
  {
   "cell_type": "code",
   "execution_count": 39,
   "id": "13a1133a",
   "metadata": {},
   "outputs": [],
   "source": [
    "pitch_fit_models = {}\n",
    "for algo, pipeline in pipelines.items():\n",
    "    model = pipeline.fit(X_train_p, y_train_p)\n",
    "    pitch_fit_models[algo] = model"
   ]
  },
  {
   "cell_type": "code",
   "execution_count": 40,
   "id": "7fcc97c5",
   "metadata": {},
   "outputs": [
    {
     "data": {
      "text/plain": [
       "{'rf_pca_pa': Pipeline(steps=[('standardscaler', StandardScaler()),\n",
       "                 ('pca', PCA(n_components=100)), ('svr', SVR())])}"
      ]
     },
     "execution_count": 40,
     "metadata": {},
     "output_type": "execute_result"
    }
   ],
   "source": [
    "pitch_fit_models"
   ]
  },
  {
   "cell_type": "code",
   "execution_count": 41,
   "id": "5d0fa487",
   "metadata": {},
   "outputs": [],
   "source": [
    "Train_pred_pitch     = pitch_fit_models['rf_pca_pa'].predict(X_train_p)\n",
    "Validation_pred_pitch = pitch_fit_models['rf_pca_pa'].predict(X_val_p)\n",
    "pitch_Angle=pitch_fit_models['rf_pca_pa'].predict(X_test_p)"
   ]
  },
  {
   "cell_type": "code",
   "execution_count": 42,
   "id": "cfb65905",
   "metadata": {},
   "outputs": [
    {
     "name": "stdout",
     "output_type": "stream",
     "text": [
      "Train MSE:  0.1810325682636633\n",
      "Validation MSE:  0.04083820030556943\n",
      "Test MSE:  0.8785186120867401\n"
     ]
    }
   ],
   "source": [
    "################################## Error Evaluation (Mean Square Error)#####################################################\n",
    "# Traning Data MSE\n",
    "print(\"Train MSE: \"       , mean_squared_error(y_train_p,Train_pred_pitch))\n",
    "# Validation Data MSE\n",
    "print(\"Validation MSE: \"  , mean_squared_error(y_val_p,Validation_pred_pitch))\n",
    "# test Data MSE\n",
    "print(\"Test MSE: \"  , mean_squared_error(y_test_p,pitch_Angle))"
   ]
  },
  {
   "cell_type": "code",
   "execution_count": 43,
   "id": "720daf88",
   "metadata": {},
   "outputs": [
    {
     "data": {
      "text/plain": [
       "53.730185559310875"
      ]
     },
     "execution_count": 43,
     "metadata": {},
     "output_type": "execute_result"
    }
   ],
   "source": [
    "e_points_p = (np.sqrt(mean_squared_error(y_test_p,pitch_Angle)) /3.14) * 180 \n",
    "e_points_p"
   ]
  },
  {
   "cell_type": "code",
   "execution_count": 44,
   "id": "c816c5c2",
   "metadata": {},
   "outputs": [
    {
     "name": "stdout",
     "output_type": "stream",
     "text": [
      "Train r2_score:  0.27287198423840986\n",
      "Validation r2_score:  0.602035182175459\n",
      "Test r2_score:  0.040608827503253786\n"
     ]
    }
   ],
   "source": [
    "################################## Model Evaluation (r2_score)#####################################################\n",
    "\n",
    "print(\"Train r2_score: \"            , r2_score(y_train_p,Train_pred_pitch))\n",
    "print(\"Validation r2_score: \"       , r2_score(y_val_p,Validation_pred_pitch))\n",
    "print(\"Test r2_score: \"             , r2_score(y_test_p , pitch_Angle))"
   ]
  },
  {
   "cell_type": "code",
   "execution_count": 45,
   "id": "35688210",
   "metadata": {},
   "outputs": [
    {
     "name": "stdout",
     "output_type": "stream",
     "text": [
      "Train score  0.27287198423840986\n",
      "Validation Score  0.602035182175459\n",
      "test score:  0.040608827503253786\n"
     ]
    }
   ],
   "source": [
    "################################## Model Evaluation (score)#####################################################\n",
    "print(\"Train score \"                   , pitch_fit_models['rf_pca_pa'].score(X_train_p,y_train_p))\n",
    "print(\"Validation Score \"              , pitch_fit_models['rf_pca_pa'].score(X_val_p,y_val_p))\n",
    "print(\"test score: \"                   , pitch_fit_models['rf_pca_pa'].score(X_test_p , y_test_p))"
   ]
  },
  {
   "cell_type": "code",
   "execution_count": 46,
   "id": "13c2f0f1",
   "metadata": {},
   "outputs": [],
   "source": [
    "with open('pitch_model.pkl', 'wb') as f:\n",
    "    pickle.dump(pitch_fit_models ['rf_pca_pa'], f)"
   ]
  },
  {
   "cell_type": "markdown",
   "id": "49ff1e11",
   "metadata": {},
   "source": [
    "### 2. YAW"
   ]
  },
  {
   "cell_type": "code",
   "execution_count": 47,
   "id": "45373ae4",
   "metadata": {},
   "outputs": [],
   "source": [
    "pipelines = {\n",
    "        'rf_pca_ya':make_pipeline(StandardScaler(),PCA(n_components=100), SVR())\n",
    "    #     ,'lr_pca_pa':make_pipeline(PCA(n_components=0.99),LinearRegression()),\n",
    "    #     'DT_pa'    :make_pipeline(DecisionTreeRegressor()),\n",
    "    #     'DT_pa_pa'    :make_pipeline(PCA(n_components=0.99),DecisionTreeRegressor()),\n",
    "\n",
    "\n",
    "}"
   ]
  },
  {
   "cell_type": "code",
   "execution_count": 48,
   "id": "99d84a65",
   "metadata": {},
   "outputs": [],
   "source": [
    "yaw_fit_models = {}\n",
    "for algo, pipeline in pipelines.items():\n",
    "    model = pipeline.fit(X_train_y, y_train_y)\n",
    "    yaw_fit_models[algo] = model"
   ]
  },
  {
   "cell_type": "code",
   "execution_count": 49,
   "id": "3fb43fe7",
   "metadata": {},
   "outputs": [
    {
     "data": {
      "text/plain": [
       "{'rf_pca_ya': Pipeline(steps=[('standardscaler', StandardScaler()),\n",
       "                 ('pca', PCA(n_components=100)), ('svr', SVR())])}"
      ]
     },
     "execution_count": 49,
     "metadata": {},
     "output_type": "execute_result"
    }
   ],
   "source": [
    "yaw_fit_models"
   ]
  },
  {
   "cell_type": "code",
   "execution_count": 50,
   "id": "ffde938c",
   "metadata": {},
   "outputs": [],
   "source": [
    "Train_pred_yaw     = yaw_fit_models['rf_pca_ya'].predict(X_train_y)\n",
    "Validation_pred_yaw = yaw_fit_models['rf_pca_ya'].predict(X_val_y)\n",
    "yaw_Angle=yaw_fit_models['rf_pca_ya'].predict(X_test_y)"
   ]
  },
  {
   "cell_type": "code",
   "execution_count": 51,
   "id": "e7f3d8b7",
   "metadata": {},
   "outputs": [
    {
     "name": "stdout",
     "output_type": "stream",
     "text": [
      "Train MSE:  0.021691505489683835\n",
      "Validation MSE:  0.018479158076174198\n",
      "Test MSE:  0.193232081712843\n"
     ]
    }
   ],
   "source": [
    "################################## Error Evaluation (Mean Square Error)#####################################################\n",
    "# Traning Data MSE\n",
    "print(\"Train MSE: \"       , mean_squared_error(y_train_y,Train_pred_yaw))\n",
    "# Validation Data MSE\n",
    "print(\"Validation MSE: \"  , mean_squared_error(y_val_y,Validation_pred_yaw))\n",
    "# test Data MSE\n",
    "print(\"Test MSE: \"  , mean_squared_error(y_test_y,yaw_Angle))"
   ]
  },
  {
   "cell_type": "code",
   "execution_count": 52,
   "id": "1b402ca7",
   "metadata": {},
   "outputs": [
    {
     "data": {
      "text/plain": [
       "25.198951655569907"
      ]
     },
     "execution_count": 52,
     "metadata": {},
     "output_type": "execute_result"
    }
   ],
   "source": [
    "e_points_y = (np.sqrt(mean_squared_error(y_test_y,yaw_Angle)) /3.14) * 180 \n",
    "e_points_y"
   ]
  },
  {
   "cell_type": "code",
   "execution_count": 53,
   "id": "148108a8",
   "metadata": {},
   "outputs": [
    {
     "name": "stdout",
     "output_type": "stream",
     "text": [
      "Train r2_score:  0.9321847681843457\n",
      "Validation r2_score:  0.9378303870751212\n",
      "Test r2_score:  0.6176682626021923\n"
     ]
    }
   ],
   "source": [
    "################################## Model Evaluation (r2_score)#####################################################\n",
    "\n",
    "print(\"Train r2_score: \"            , r2_score(y_train_y,Train_pred_yaw))\n",
    "print(\"Validation r2_score: \"       , r2_score(y_val_y,Validation_pred_yaw))\n",
    "print(\"Test r2_score: \"             , r2_score(y_test_y , yaw_Angle))"
   ]
  },
  {
   "cell_type": "code",
   "execution_count": 54,
   "id": "e189eff7",
   "metadata": {},
   "outputs": [
    {
     "name": "stdout",
     "output_type": "stream",
     "text": [
      "Train score  0.9321847681843457\n",
      "Validation Score  0.9378303870751212\n",
      "test score:  0.6176682626021923\n"
     ]
    }
   ],
   "source": [
    "################################## Model Evaluation (score)#####################################################\n",
    "print(\"Train score \"                   , yaw_fit_models['rf_pca_ya'].score(X_train_y,y_train_y))\n",
    "print(\"Validation Score \"              , yaw_fit_models['rf_pca_ya'].score(X_val_y,y_val_y))\n",
    "print(\"test score: \"                   , yaw_fit_models['rf_pca_ya'].score(X_test_y , y_test_y))"
   ]
  },
  {
   "cell_type": "code",
   "execution_count": 55,
   "id": "c02fd77b",
   "metadata": {},
   "outputs": [],
   "source": [
    "with open('yaw_model.pkl', 'wb') as f:\n",
    "    pickle.dump(yaw_fit_models ['rf_pca_ya'], f)"
   ]
  },
  {
   "cell_type": "markdown",
   "id": "c2c069a5",
   "metadata": {},
   "source": [
    "### 3. ROLL"
   ]
  },
  {
   "cell_type": "code",
   "execution_count": 56,
   "id": "e2694441",
   "metadata": {},
   "outputs": [],
   "source": [
    "pipelines = {\n",
    "        'rf_pca_ra':make_pipeline(StandardScaler(),PCA(n_components=100), SVR())\n",
    "    #     ,'lr_pca_pa':make_pipeline(PCA(n_components=0.99),LinearRegression()),\n",
    "    #     'DT_pa'    :make_pipeline(DecisionTreeRegressor()),\n",
    "    #     'DT_pa_pa'    :make_pipeline(PCA(n_components=0.99),DecisionTreeRegressor()),\n",
    "\n",
    "\n",
    "}"
   ]
  },
  {
   "cell_type": "code",
   "execution_count": 57,
   "id": "a00c07a6",
   "metadata": {},
   "outputs": [],
   "source": [
    "roll_fit_models = {}\n",
    "for algo, pipeline in pipelines.items():\n",
    "    model = pipeline.fit(X_train_r, y_train_r)\n",
    "    roll_fit_models[algo] = model"
   ]
  },
  {
   "cell_type": "code",
   "execution_count": 58,
   "id": "c62bc31c",
   "metadata": {},
   "outputs": [
    {
     "data": {
      "text/plain": [
       "{'rf_pca_ra': Pipeline(steps=[('standardscaler', StandardScaler()),\n",
       "                 ('pca', PCA(n_components=100)), ('svr', SVR())])}"
      ]
     },
     "execution_count": 58,
     "metadata": {},
     "output_type": "execute_result"
    }
   ],
   "source": [
    "roll_fit_models"
   ]
  },
  {
   "cell_type": "code",
   "execution_count": 59,
   "id": "f5952b95",
   "metadata": {},
   "outputs": [],
   "source": [
    "Train_pred_roll     = roll_fit_models['rf_pca_ra'].predict(X_train_r)\n",
    "Validation_pred_roll = roll_fit_models['rf_pca_ra'].predict(X_val_r)\n",
    "roll_Angle=roll_fit_models['rf_pca_ra'].predict(X_test_r)"
   ]
  },
  {
   "cell_type": "markdown",
   "id": "413a7efc",
   "metadata": {},
   "source": [
    "### Model evaluation"
   ]
  },
  {
   "cell_type": "code",
   "execution_count": 60,
   "id": "61a517f2",
   "metadata": {},
   "outputs": [
    {
     "name": "stdout",
     "output_type": "stream",
     "text": [
      "Train MSE:  0.18071368027822418\n",
      "Validation MSE:  0.04329673595501177\n",
      "Test MSE:  1.3261148848120707\n"
     ]
    }
   ],
   "source": [
    "################################## Error Evaluation (Mean Square Error)#####################################################\n",
    "# Traning Data MSE\n",
    "print(\"Train MSE: \"       , mean_squared_error(y_train_r,Train_pred_roll))\n",
    "# Validation Data MSE\n",
    "print(\"Validation MSE: \"  , mean_squared_error(y_val_r,Validation_pred_roll))\n",
    "# test Data MSE\n",
    "print(\"Test MSE: \"  , mean_squared_error(y_test_r,roll_Angle))"
   ]
  },
  {
   "cell_type": "code",
   "execution_count": 61,
   "id": "e35c6641",
   "metadata": {},
   "outputs": [
    {
     "data": {
      "text/plain": [
       "66.01360222038939"
      ]
     },
     "execution_count": 61,
     "metadata": {},
     "output_type": "execute_result"
    }
   ],
   "source": [
    "e_points_r = (np.sqrt(mean_squared_error(y_test_r,roll_Angle)) /3.14) * 180 \n",
    "e_points_r"
   ]
  },
  {
   "cell_type": "code",
   "execution_count": 62,
   "id": "440026b0",
   "metadata": {},
   "outputs": [
    {
     "name": "stdout",
     "output_type": "stream",
     "text": [
      "Train r2_score:  0.4006751171381191\n",
      "Validation r2_score:  0.6410431100825953\n",
      "Test r2_score:  0.20425009666441285\n"
     ]
    }
   ],
   "source": [
    "################################## Model Evaluation (r2_score)#####################################################\n",
    "\n",
    "print(\"Train r2_score: \"            , r2_score(y_train_r,Train_pred_roll))\n",
    "print(\"Validation r2_score: \"       , r2_score(y_val_r,Validation_pred_roll))\n",
    "print(\"Test r2_score: \"             , r2_score(y_test_r , roll_Angle))"
   ]
  },
  {
   "cell_type": "code",
   "execution_count": 63,
   "id": "d541c52c",
   "metadata": {},
   "outputs": [
    {
     "name": "stdout",
     "output_type": "stream",
     "text": [
      "Train score  0.4006751171381191\n",
      "Validation Score  0.6410431100825953\n",
      "test score:  0.20425009666441285\n"
     ]
    }
   ],
   "source": [
    "################################## Model Evaluation (score)#####################################################\n",
    "print(\"Train score \"                   , roll_fit_models['rf_pca_ra'].score(X_train_r,y_train_r))\n",
    "print(\"Validation Score \"              , roll_fit_models['rf_pca_ra'].score(X_val_r,y_val_r))\n",
    "print(\"test score: \"                   , roll_fit_models['rf_pca_ra'].score(X_test_r , y_test_r))"
   ]
  },
  {
   "cell_type": "code",
   "execution_count": 64,
   "id": "fb558ea6",
   "metadata": {},
   "outputs": [],
   "source": [
    "with open('roll_model.pkl', 'wb') as f:\n",
    "    pickle.dump(roll_fit_models ['rf_pca_ra'], f)"
   ]
  },
  {
   "cell_type": "markdown",
   "id": "ed85ac71",
   "metadata": {},
   "source": [
    "## Load Models "
   ]
  },
  {
   "cell_type": "code",
   "execution_count": 72,
   "id": "9c1f0a6f",
   "metadata": {},
   "outputs": [],
   "source": [
    "with open('yaw_model.pkl', 'rb') as f:\n",
    "    yaw_model = pickle.load(f)"
   ]
  },
  {
   "cell_type": "code",
   "execution_count": 73,
   "id": "d1597a4c",
   "metadata": {},
   "outputs": [],
   "source": [
    "with open('pitch_model.pkl', 'rb') as f:\n",
    "    pitch_model = pickle.load(f)"
   ]
  },
  {
   "cell_type": "code",
   "execution_count": 74,
   "id": "861d08af",
   "metadata": {},
   "outputs": [],
   "source": [
    "with open('roll_model.pkl', 'rb') as f:\n",
    "    roll_model = pickle.load(f)"
   ]
  },
  {
   "cell_type": "code",
   "execution_count": null,
   "id": "bea89526",
   "metadata": {},
   "outputs": [],
   "source": []
  },
  {
   "cell_type": "markdown",
   "id": "77b8165d",
   "metadata": {},
   "source": [
    "## Drawing 3 Axis\n"
   ]
  },
  {
   "cell_type": "code",
   "execution_count": 75,
   "id": "f322509a",
   "metadata": {},
   "outputs": [],
   "source": [
    "def draw_axis(img, pitch,yaw,roll, tdx=None, tdy=None, size = 100):\n",
    "\n",
    "    yaw = -yaw\n",
    "    if tdx != None and tdy != None:\n",
    "        tdx = tdx\n",
    "        tdy = tdy\n",
    "    else:\n",
    "        height, width = img.shape[:2]\n",
    "        tdx = width / 2\n",
    "        tdy = height / 2\n",
    "\n",
    "    # X-Axis pointing to right. drawn in red\n",
    "    x1 = size * (cos(yaw) * cos(roll)) + tdx\n",
    "    y1 = size * (cos(pitch) * sin(roll) + cos(roll) * sin(pitch) * sin(yaw)) + tdy\n",
    "\n",
    "    # Y-Axis | drawn in green\n",
    "    #        v\n",
    "    x2 = size * (-cos(yaw) * sin(roll)) + tdx\n",
    "    y2 = size * (cos(pitch) * cos(roll) - sin(pitch) * sin(yaw) * sin(roll)) + tdy\n",
    "\n",
    "    # Z-Axis (out of the screen) drawn in blue\n",
    "    x3 = size * (sin(yaw)) + tdx\n",
    "    y3 = size * (-cos(yaw) * sin(pitch)) + tdy\n",
    "\n",
    "    cv2.line(img, (int(tdx), int(tdy)), (int(x1),int(y1)),(0,0,255),3)\n",
    "    cv2.line(img, (int(tdx), int(tdy)), (int(x2),int(y2)),(0,255,0),3)\n",
    "    cv2.line(img, (int(tdx), int(tdy)), (int(x3),int(y3)),(255,0,0),2)\n",
    "\n",
    "    return img"
   ]
  },
  {
   "cell_type": "code",
   "execution_count": 78,
   "id": "e17aaf75",
   "metadata": {},
   "outputs": [],
   "source": [
    "faceModule = mp.solutions.face_mesh"
   ]
  },
  {
   "cell_type": "code",
   "execution_count": 79,
   "id": "1cd3c6f2",
   "metadata": {},
   "outputs": [],
   "source": [
    "#  Create a VideoCapture object and read from input file\n",
    "def Create_TestVideo(pitch_model,yaw_model,roll_model,path):\n",
    "  cap = cv2.VideoCapture(path)\n",
    "  width= int(cap.get(cv2.CAP_PROP_FRAME_WIDTH))\n",
    "  height= int(cap.get(cv2.CAP_PROP_FRAME_HEIGHT))\n",
    "\n",
    "  # Check if camera opened successfully\n",
    "  if (cap.isOpened()== False): \n",
    "      print(\"Error opening video file\")\n",
    "  #a list to store the frames of the video  \n",
    "  video_array = []\n",
    "  # Read until video is completed\n",
    "  while(cap.isOpened()):   \n",
    "    # Capture frame-by-frame\n",
    "      ret, frame = cap.read()\n",
    "      if ret == True:\n",
    "        # loading image \n",
    "        with faceModule.FaceMesh(static_image_mode=True) as faces:\n",
    "          # processing the face to extract the landmark points (468 point) for each x,y,z\n",
    "          results = faces.process(cv2.cvtColor(frame, cv2.COLOR_BGR2RGB))\n",
    "          if results.multi_face_landmarks != None: \n",
    "            # looping over the faces in the image\n",
    "            for face in results.multi_face_landmarks:\n",
    "                # initializing two lists to store the points for every face.\n",
    "                x_array = []\n",
    "                y_array = []\n",
    "                # looping over the 468 points of x and y\n",
    "                for landmark in face.landmark:\n",
    "                    x = landmark.x\n",
    "                    y = landmark.y\n",
    "                    # note: the x and y values are scaled to the their width and height so we will get back their actual value in the image\n",
    "                    shape = frame.shape \n",
    "                    relative_x = int(x * shape[1])\n",
    "                    relative_y = int(y * shape[0])\n",
    "                    #Xs of face\n",
    "                    x_array.append(relative_x)\n",
    "                    #Ys of face\n",
    "                    y_array.append(relative_y)\n",
    "\n",
    "                # converting the x anx y to numpy arrays\n",
    "                x_array = np.array(x_array)\n",
    "                y_array = np.array(y_array)\n",
    "\n",
    "                # centering the points arround the 99th point \n",
    "                x_center = x_array - x_array[99]\n",
    "                y_center = y_array - y_array[99]\n",
    "\n",
    "                # computing the distance\n",
    "                distance = np.linalg.norm(np.array((x_array[171],y_array[171])) - np.array((x_array[10],y_array[10])),axis = 0)\n",
    "                x_norm = x_center / distance\n",
    "                y_norm = y_center / distance\n",
    "\n",
    "                # concatinating the x and y points to predict the labels (pitch,yaw,roll)\n",
    "                features = np.hstack([x_norm,y_norm]).reshape(1,-1)\n",
    "\n",
    "                # predicting the 3 angels to draw the axis on the image\n",
    "                pred_pitch = pitch_model.predict(features)\n",
    "                pred_yaw = yaw_model.predict(features)\n",
    "                pred_roll = roll_model.predict(features)\n",
    "                draw_axis(frame,pred_pitch,pred_yaw,pred_roll,x_array[99],y_array[99])\n",
    "                # appending the result frames to the video_array list\n",
    "                video_array.append(frame)\n",
    "      else:\n",
    "        break\n",
    "  cap.release()  \n",
    "  # Closes all the frames\n",
    "  cv2.destroyAllWindows()\n",
    "  print(\"Number of Detected Frames = \",len(video_array))\n",
    "  # converting the frames to video\n",
    "  out = cv2.VideoWriter('Test_video.mp4',cv2.VideoWriter_fourcc(*'DIVX'), 20, (width,height))\n",
    "  for i in range(len(video_array)):\n",
    "    out.write(video_array[i])\n",
    "  out.release()\n"
   ]
  },
  {
   "cell_type": "code",
   "execution_count": 80,
   "id": "cf5a84ce",
   "metadata": {},
   "outputs": [
    {
     "name": "stdout",
     "output_type": "stream",
     "text": [
      "Number of Detected Frames =  412\n"
     ]
    }
   ],
   "source": [
    "path = \"C:/Users/Omar/OneDrive/Pictures/Camera Roll/Project.mp4\" \n",
    "Create_TestVideo(pitch_model,yaw_model,roll_model,path)"
   ]
  },
  {
   "cell_type": "code",
   "execution_count": null,
   "id": "07ff2a7d",
   "metadata": {},
   "outputs": [],
   "source": []
  }
 ],
 "metadata": {
  "kernelspec": {
   "display_name": "Python 3 (ipykernel)",
   "language": "python",
   "name": "python3"
  },
  "language_info": {
   "codemirror_mode": {
    "name": "ipython",
    "version": 3
   },
   "file_extension": ".py",
   "mimetype": "text/x-python",
   "name": "python",
   "nbconvert_exporter": "python",
   "pygments_lexer": "ipython3",
   "version": "3.9.7"
  }
 },
 "nbformat": 4,
 "nbformat_minor": 5
}
